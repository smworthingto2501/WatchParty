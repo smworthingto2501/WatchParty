{
 "cells": [
  {
   "cell_type": "code",
   "execution_count": 1,
   "id": "2a070922",
   "metadata": {},
   "outputs": [],
   "source": [
    "import json\n",
    "import requests\n",
    "\n",
    "import pandas as pd\n",
    "import numpy as np"
   ]
  },
  {
   "cell_type": "markdown",
   "id": "de6d68b1",
   "metadata": {},
   "source": [
    "### Load the data and process the data."
   ]
  },
  {
   "cell_type": "code",
   "execution_count": 197,
   "id": "3fc332ba",
   "metadata": {},
   "outputs": [],
   "source": [
    "data = pd.read_csv('ml-latest/movies.csv', index_col='movieId')\n",
    "links = pd.read_csv('ml-latest/links.csv', index_col='movieId')\n",
    "\n",
    "# Split genre strings into a list.\n",
    "data.genres = data.genres.map(lambda x: x.split('|'))\n",
    "\n",
    "# Split the title into a release year and title.\n",
    "data['release_year'] = data.title.map(lambda x: x[x.find('(')+1:x.find(')')])\n",
    "data['title'] = data.title.map(lambda x: x[:x.find('(')])\n",
    "\n",
    "# Create a binary list of columns.\n",
    "binary_genres = pd.get_dummies(data.genres.explode()).sum(level=0)\n",
    "\n",
    "# Create a dataframe for the dataset and load the user genome tags.\n",
    "data = pd.concat([data, links, binary_genres], axis=1)\n",
    "genome_scores = pd.read_csv('ml-latest/genome-scores.csv')\n",
    "genome_tags = pd.read_csv('ml-latest/genome-tags.csv')\n",
    "ratings = pd.read_csv('ml-latest/ratings.csv')"
   ]
  },
  {
   "cell_type": "code",
   "execution_count": 3,
   "id": "d535413e",
   "metadata": {},
   "outputs": [],
   "source": [
    "'''\n",
    "Use the IMDB alternative API to populate the movie info dataframe.\n",
    "'''\n",
    "def scrape_movie(imdb_id):\n",
    "    url = 'https://movie-database-imdb-alternative.p.rapidapi.com/'\n",
    "    headers = {\n",
    "        'x-rapidapi-host': 'movie-database-imdb-alternative.p.rapidapi.com',\n",
    "        'x-rapidapi-key': 'ee527b80e2mshe9e5a5340654e93p10be67jsn49070371b611'\n",
    "    }\n",
    "    querystring = {'i': 'tt'+imdb_id.zfill(7), 'r': 'json'}\n",
    "    response = requests.request('GET', url, headers=headers, params=querystring)\n",
    "    return json.loads(response.text)"
   ]
  },
  {
   "cell_type": "code",
   "execution_count": 4,
   "id": "de5d8785",
   "metadata": {},
   "outputs": [],
   "source": [
    "'''\n",
    "Get the Rotten Tomato score from the JSON response.\n",
    "'''\n",
    "def get_rt_score(movie_data):\n",
    "    if 'Ratings' in movie_data.keys():\n",
    "        movie_ratings = movie_data['Ratings']\n",
    "        raters = [rating['Source'] for rating in movie_ratings]\n",
    "        if 'Rotten Tomatoes' in raters:\n",
    "            rt_index = next((ind for (ind, d) in enumerate(movie_ratings) if d['Source'] == 'Rotten Tomatoes'), None)\n",
    "            return movie_ratings[rt_index]['Value']\n",
    "        else:\n",
    "             return np.nan"
   ]
  },
  {
   "cell_type": "code",
   "execution_count": 5,
   "id": "3791398b",
   "metadata": {},
   "outputs": [],
   "source": [
    "'''\n",
    "Get the relevent field from the JSON response.\n",
    "'''\n",
    "def get_field(movie_data, field):\n",
    "    if field in movie_data.keys():\n",
    "         return movie_data[field]\n",
    "    else:\n",
    "         return np.nan"
   ]
  },
  {
   "cell_type": "markdown",
   "id": "7108e77c",
   "metadata": {},
   "source": [
    "### Scrape a small set of example movie data."
   ]
  },
  {
   "cell_type": "code",
   "execution_count": 36,
   "id": "08778524",
   "metadata": {},
   "outputs": [
    {
     "name": "stdout",
     "output_type": "stream",
     "text": [
      "Item number: 41000\n",
      "Item number: 42000\n",
      "Item number: 43000\n",
      "Item number: 44000\n",
      "Item number: 45000\n",
      "Item number: 46000\n",
      "Item number: 47000\n",
      "Item number: 48000\n",
      "Item number: 49000\n",
      "Item number: 50000\n",
      "Item number: 51000\n",
      "Item number: 52000\n",
      "Item number: 53000\n",
      "Item number: 54000\n",
      "Item number: 55000\n",
      "Item number: 56000\n",
      "Item number: 57000\n",
      "Item number: 58000\n"
     ]
    }
   ],
   "source": [
    "columns = ['Title', 'Year', 'Rated', 'Runtime', 'Genre', 'Director', 'Writer', 'Actors', 'Plot', 'Awards', 'Poster', 'imdbRating', 'imdbVotes', 'Metascore', 'BoxOffice']\n",
    "#imdb_ids = data.imdbId.values\n",
    "#imdb_ids = imdb_ids[scraped_data.Title.values==0]\n",
    "i = (scraped_data.Title.values==0).argmax()-1\n",
    "#scraped_data = pd.DataFrame(np.zeros([imdb_ids.shape[0], len(columns)+2]), columns=['imdbId']+columns+['rtRating'])\n",
    "\n",
    "start = time.time()\n",
    "for _, imdb in enumerate(imdb_ids):\n",
    "    movie_data = scrape_movie(str(imdb))\n",
    "    # Populate the regular fields.\n",
    "    for field in columns:\n",
    "        scraped_data.loc[i, field] = get_field(movie_data, field)\n",
    "    # Add the rotten tomatoe rating.\n",
    "    scraped_data.loc[i, 'rtRating'] = get_rt_score(movie_data)\n",
    "    \n",
    "    # Print progress.\n",
    "    if i%1000 == 0 and i != 0:\n",
    "        avg_time = (time.time()-start)/i\n",
    "        print('Item number: '+str(i))\n",
    "    i +=1"
   ]
  },
  {
   "cell_type": "code",
   "execution_count": 38,
   "id": "fd67c6f0",
   "metadata": {},
   "outputs": [],
   "source": [
    "#scraped_data.to_csv('scraped_data.csv')`"
   ]
  },
  {
   "cell_type": "markdown",
   "id": "792f62d1",
   "metadata": {},
   "source": [
    "### Identify movies that have both at least 1,000 IMDB votes and 100 ratings."
   ]
  },
  {
   "cell_type": "code",
   "execution_count": 177,
   "id": "d1ead711",
   "metadata": {
    "collapsed": true
   },
   "outputs": [
    {
     "name": "stderr",
     "output_type": "stream",
     "text": [
      "/home/declan/miniconda3/envs/torch/lib/python3.7/site-packages/pandas/core/indexing.py:1596: SettingWithCopyWarning: \n",
      "A value is trying to be set on a copy of a slice from a DataFrame.\n",
      "Try using .loc[row_indexer,col_indexer] = value instead\n",
      "\n",
      "See the caveats in the documentation: https://pandas.pydata.org/pandas-docs/stable/user_guide/indexing.html#returning-a-view-versus-a-copy\n",
      "  self.obj[key] = _infer_fill_value(value)\n",
      "/home/declan/miniconda3/envs/torch/lib/python3.7/site-packages/pandas/core/indexing.py:1743: SettingWithCopyWarning: \n",
      "A value is trying to be set on a copy of a slice from a DataFrame.\n",
      "Try using .loc[row_indexer,col_indexer] = value instead\n",
      "\n",
      "See the caveats in the documentation: https://pandas.pydata.org/pandas-docs/stable/user_guide/indexing.html#returning-a-view-versus-a-copy\n",
      "  isetter(ilocs[0], value)\n"
     ]
    }
   ],
   "source": [
    "# Change the data format of the imdbVotes column to int.\n",
    "scraped_data = pd.read_csv('scraped_data.csv')\n",
    "scraped_data['imdbVotes'] = scraped_data.loc[:, 'imdbVotes'].str.replace(',', '').astype(int, errors='ignore')\n",
    "scraped_data['imdbVotes'] = pd.to_numeric(scraped_data['imdbVotes'], errors ='coerce')\n",
    "\n",
    "# Get a tentative list of movies that have more than 1,000 IMDB votes.\n",
    "good_movie_inds = scraped_data.imdbVotes>1000\n",
    "good_movie_info = scraped_data.iloc[good_movie_inds.values, :]\n",
    "\n",
    "# Get rid of all movies with less than 100 reviews.\n",
    "movie_ids, counts = np.unique(ratings.movieId.values, return_counts=True)\n",
    "good_movie_ids = movie_ids[counts>100]\n",
    "good_movie_ratings = ratings.iloc[ratings.movieId.isin(good_movie_ids).values,:]\n",
    "\n",
    "# Add the imdbId to the reviews dataframe.\n",
    "movieId_data = pd.read_csv('ml-latest/links.csv')\n",
    "movie_map = {movie.movieId: movie.imdbId for _, movie in movieId_data.iterrows()}\n",
    "good_movie_ratings.insert(5, 'imdbId', good_movie_ratings.movieId.map(movie_map))\n",
    "\n",
    "# Find only the movies that have both at least 1,000 IMDB votes and 100 ratings.\n",
    "good_imdb_ids1 = good_movie_ratings.imdbId.unique()\n",
    "good_imdb_ids2 = good_movie_info.imdbId.values\n",
    "good_movie_imdb_ids = np.intersect1d(good_imdb_ids1, good_imdb_ids2)"
   ]
  },
  {
   "cell_type": "code",
   "execution_count": 183,
   "id": "0f90ddde",
   "metadata": {},
   "outputs": [],
   "source": [
    "# NOW get the final movie info and ratings dataframes by filtering using these criterion.\n",
    "ratings_inds = good_movie_ratings.imdbId.isin(good_movie_imdb_ids)\n",
    "info_inds = good_movie_info.imdbId.isin(good_movie_imdb_ids)\n",
    "good_movie_ratings = good_movie_ratings.loc[ratings_inds, :]\n",
    "good_movie_info = good_movie_info.loc[info_inds, :]"
   ]
  },
  {
   "cell_type": "markdown",
   "id": "a65c3003",
   "metadata": {},
   "source": [
    "### Now filter the tags based on whether they were used to describe the popular movies identified above."
   ]
  },
  {
   "cell_type": "code",
   "execution_count": 198,
   "id": "e383bf51",
   "metadata": {},
   "outputs": [],
   "source": [
    "genome_map = {tag.tagId: tag.tag for _, tag in genome_tags.iterrows()}\n",
    "genome_scores.insert(2, 'tag', genome_scores.tagId.map(genome_map))\n",
    "genome_scores.insert(1, 'imdbId', genome_scores.movieId.map(movie_map))\n",
    "score_inds = genome_scores.imdbId.isin(good_movie_imdb_ids)\n",
    "good_genome_scores = genome_scores.loc[score_inds, :]"
   ]
  },
  {
   "cell_type": "markdown",
   "id": "2f6b3f4b",
   "metadata": {},
   "source": [
    "### Example code for converting datetimes."
   ]
  },
  {
   "cell_type": "code",
   "execution_count": null,
   "id": "2dc619aa",
   "metadata": {},
   "outputs": [],
   "source": [
    "from datetime import datetime\n",
    "\n",
    "timestamp = 1256677221\n",
    "dt_object = datetime.fromtimestamp(timestamp)\n",
    "dt_object.date()"
   ]
  }
 ],
 "metadata": {
  "kernelspec": {
   "display_name": "Python 3 (ipykernel)",
   "language": "python",
   "name": "python3"
  },
  "language_info": {
   "codemirror_mode": {
    "name": "ipython",
    "version": 3
   },
   "file_extension": ".py",
   "mimetype": "text/x-python",
   "name": "python",
   "nbconvert_exporter": "python",
   "pygments_lexer": "ipython3",
   "version": "3.7.5"
  }
 },
 "nbformat": 4,
 "nbformat_minor": 5
}
